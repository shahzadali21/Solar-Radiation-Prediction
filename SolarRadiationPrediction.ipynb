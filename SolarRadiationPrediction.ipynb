{
 "cells": [
  {
   "cell_type": "markdown",
   "metadata": {},
   "source": [
    "# Solar Radiation Prediction"
   ]
  },
  {
   "cell_type": "markdown",
   "metadata": {},
   "source": [
    "## Dataset Description\n",
    "\n",
    "This Solar Radiation Prediction dataset is a four-month dataset collected at the HI-SEAS weather station (Hawaii). \n",
    "- The dataset contains columns such as: \"wind direction\", \"wind speed\", \"humidity\" and temperature. \n",
    "- The response parameter that is to be predicted is: \"Solar_radiation\". \n",
    "\n",
    "The dataset have following attributes:\n",
    "- The UNIX time_t date (seconds since Jan 1, 1970). Useful in sorting this export's results with other export's results\n",
    "- The data in yyyy-mm-dd format\n",
    "- The local time of day in hh:mm:ss 24-hour format\n",
    "- Solar radiation: watts per meter^2 (W/m2)\n",
    "- Temperature: (°F)\n",
    "- Barometric pressure: (Hg)\n",
    "- Humidity: (%)\n",
    "- Wind direction: (°)\n",
    "- Wind speed: (mph)\n",
    "- Sunrise/sunset: Hawaii time\n",
    "\n",
    "**Dataset name and URL:**\n",
    "Solar Radiation Prediction\n",
    "https://www.kaggle.com/dronio/SolarEnergy\n",
    "\n",
    "**Research Questions:**\n",
    "- Which month has the highest intensity of solar radiation\n",
    "- Which is the major factor affecting increase of solar radiation\n",
    "- What are the dependencies between:\n",
    "   - Humidity & Solar radiation\n",
    "   - Temeperature & Solar radiation"
   ]
  },
  {
   "cell_type": "markdown",
   "metadata": {},
   "source": [
    "# Importing Libararies"
   ]
  },
  {
   "cell_type": "code",
   "execution_count": 2,
   "metadata": {},
   "outputs": [],
   "source": [
    "import pandas as pd\n",
    "import numpy as np\n",
    "\n",
    "import seaborn as sns\n",
    "import matplotlib.pyplot as plt\n",
    "%matplotlib inline\n",
    "\n",
    "import warnings; warnings.filterwarnings('ignore')"
   ]
  },
  {
   "cell_type": "markdown",
   "metadata": {},
   "source": [
    "# Load Dataset"
   ]
  },
  {
   "cell_type": "code",
   "execution_count": 41,
   "metadata": {},
   "outputs": [],
   "source": [
    "solar = pd.read_csv('SolarPrediction.csv')"
   ]
  },
  {
   "cell_type": "markdown",
   "metadata": {},
   "source": [
    "# EXploratory Data Analysis (EDA)"
   ]
  },
  {
   "cell_type": "code",
   "execution_count": 42,
   "metadata": {
    "scrolled": true
   },
   "outputs": [
    {
     "data": {
      "text/html": [
       "<div>\n",
       "<style scoped>\n",
       "    .dataframe tbody tr th:only-of-type {\n",
       "        vertical-align: middle;\n",
       "    }\n",
       "\n",
       "    .dataframe tbody tr th {\n",
       "        vertical-align: top;\n",
       "    }\n",
       "\n",
       "    .dataframe thead th {\n",
       "        text-align: right;\n",
       "    }\n",
       "</style>\n",
       "<table border=\"1\" class=\"dataframe\">\n",
       "  <thead>\n",
       "    <tr style=\"text-align: right;\">\n",
       "      <th></th>\n",
       "      <th>UNIXTime</th>\n",
       "      <th>Data</th>\n",
       "      <th>Time</th>\n",
       "      <th>Radiation</th>\n",
       "      <th>Temperature</th>\n",
       "      <th>Pressure</th>\n",
       "      <th>Humidity</th>\n",
       "      <th>WindDirection(Degrees)</th>\n",
       "      <th>Speed</th>\n",
       "      <th>TimeSunRise</th>\n",
       "      <th>TimeSunSet</th>\n",
       "    </tr>\n",
       "  </thead>\n",
       "  <tbody>\n",
       "    <tr>\n",
       "      <th>0</th>\n",
       "      <td>1475229326</td>\n",
       "      <td>9/29/2016 12:00:00 AM</td>\n",
       "      <td>23:55:26</td>\n",
       "      <td>1.21</td>\n",
       "      <td>48</td>\n",
       "      <td>30.46</td>\n",
       "      <td>59</td>\n",
       "      <td>177.39</td>\n",
       "      <td>5.62</td>\n",
       "      <td>6:13:00</td>\n",
       "      <td>18:13:00</td>\n",
       "    </tr>\n",
       "    <tr>\n",
       "      <th>1</th>\n",
       "      <td>1475229023</td>\n",
       "      <td>9/29/2016 12:00:00 AM</td>\n",
       "      <td>23:50:23</td>\n",
       "      <td>1.21</td>\n",
       "      <td>48</td>\n",
       "      <td>30.46</td>\n",
       "      <td>58</td>\n",
       "      <td>176.78</td>\n",
       "      <td>3.37</td>\n",
       "      <td>6:13:00</td>\n",
       "      <td>18:13:00</td>\n",
       "    </tr>\n",
       "    <tr>\n",
       "      <th>2</th>\n",
       "      <td>1475228726</td>\n",
       "      <td>9/29/2016 12:00:00 AM</td>\n",
       "      <td>23:45:26</td>\n",
       "      <td>1.23</td>\n",
       "      <td>48</td>\n",
       "      <td>30.46</td>\n",
       "      <td>57</td>\n",
       "      <td>158.75</td>\n",
       "      <td>3.37</td>\n",
       "      <td>6:13:00</td>\n",
       "      <td>18:13:00</td>\n",
       "    </tr>\n",
       "    <tr>\n",
       "      <th>3</th>\n",
       "      <td>1475228421</td>\n",
       "      <td>9/29/2016 12:00:00 AM</td>\n",
       "      <td>23:40:21</td>\n",
       "      <td>1.21</td>\n",
       "      <td>48</td>\n",
       "      <td>30.46</td>\n",
       "      <td>60</td>\n",
       "      <td>137.71</td>\n",
       "      <td>3.37</td>\n",
       "      <td>6:13:00</td>\n",
       "      <td>18:13:00</td>\n",
       "    </tr>\n",
       "    <tr>\n",
       "      <th>4</th>\n",
       "      <td>1475228124</td>\n",
       "      <td>9/29/2016 12:00:00 AM</td>\n",
       "      <td>23:35:24</td>\n",
       "      <td>1.17</td>\n",
       "      <td>48</td>\n",
       "      <td>30.46</td>\n",
       "      <td>62</td>\n",
       "      <td>104.95</td>\n",
       "      <td>5.62</td>\n",
       "      <td>6:13:00</td>\n",
       "      <td>18:13:00</td>\n",
       "    </tr>\n",
       "  </tbody>\n",
       "</table>\n",
       "</div>"
      ],
      "text/plain": [
       "     UNIXTime                   Data      Time  Radiation  Temperature  \\\n",
       "0  1475229326  9/29/2016 12:00:00 AM  23:55:26       1.21           48   \n",
       "1  1475229023  9/29/2016 12:00:00 AM  23:50:23       1.21           48   \n",
       "2  1475228726  9/29/2016 12:00:00 AM  23:45:26       1.23           48   \n",
       "3  1475228421  9/29/2016 12:00:00 AM  23:40:21       1.21           48   \n",
       "4  1475228124  9/29/2016 12:00:00 AM  23:35:24       1.17           48   \n",
       "\n",
       "   Pressure  Humidity  WindDirection(Degrees)  Speed TimeSunRise TimeSunSet  \n",
       "0     30.46        59                  177.39   5.62     6:13:00   18:13:00  \n",
       "1     30.46        58                  176.78   3.37     6:13:00   18:13:00  \n",
       "2     30.46        57                  158.75   3.37     6:13:00   18:13:00  \n",
       "3     30.46        60                  137.71   3.37     6:13:00   18:13:00  \n",
       "4     30.46        62                  104.95   5.62     6:13:00   18:13:00  "
      ]
     },
     "execution_count": 42,
     "metadata": {},
     "output_type": "execute_result"
    }
   ],
   "source": [
    "solar.head()"
   ]
  },
  {
   "cell_type": "code",
   "execution_count": 43,
   "metadata": {},
   "outputs": [
    {
     "data": {
      "text/plain": [
       "(32686, 11)"
      ]
     },
     "execution_count": 43,
     "metadata": {},
     "output_type": "execute_result"
    }
   ],
   "source": [
    "solar.shape"
   ]
  },
  {
   "cell_type": "code",
   "execution_count": 44,
   "metadata": {
    "scrolled": true
   },
   "outputs": [
    {
     "data": {
      "text/plain": [
       "['UNIXTime',\n",
       " 'Data',\n",
       " 'Time',\n",
       " 'Radiation',\n",
       " 'Temperature',\n",
       " 'Pressure',\n",
       " 'Humidity',\n",
       " 'WindDirection(Degrees)',\n",
       " 'Speed',\n",
       " 'TimeSunRise',\n",
       " 'TimeSunSet']"
      ]
     },
     "execution_count": 44,
     "metadata": {},
     "output_type": "execute_result"
    }
   ],
   "source": [
    "list(solar)"
   ]
  },
  {
   "cell_type": "code",
   "execution_count": 45,
   "metadata": {
    "scrolled": false
   },
   "outputs": [
    {
     "data": {
      "text/plain": [
       "UNIXTime                  0\n",
       "Data                      0\n",
       "Time                      0\n",
       "Radiation                 0\n",
       "Temperature               0\n",
       "Pressure                  0\n",
       "Humidity                  0\n",
       "WindDirection(Degrees)    0\n",
       "Speed                     0\n",
       "TimeSunRise               0\n",
       "TimeSunSet                0\n",
       "dtype: int64"
      ]
     },
     "execution_count": 45,
     "metadata": {},
     "output_type": "execute_result"
    }
   ],
   "source": [
    "#Checking if there are missing values\n",
    "solar.isnull().sum()\n",
    "#solar.isnull().any()"
   ]
  },
  {
   "cell_type": "markdown",
   "metadata": {},
   "source": [
    "this indicates that there are no missing values."
   ]
  },
  {
   "cell_type": "code",
   "execution_count": 46,
   "metadata": {},
   "outputs": [
    {
     "data": {
      "text/plain": [
       "UNIXTime                  32686\n",
       "Data                        118\n",
       "Time                       8299\n",
       "Radiation                 14434\n",
       "Temperature                  38\n",
       "Pressure                     38\n",
       "Humidity                     94\n",
       "WindDirection(Degrees)    17951\n",
       "Speed                        37\n",
       "TimeSunRise                  51\n",
       "TimeSunSet                   56\n",
       "dtype: int64"
      ]
     },
     "execution_count": 46,
     "metadata": {},
     "output_type": "execute_result"
    }
   ],
   "source": [
    "solar.nunique()"
   ]
  },
  {
   "cell_type": "code",
   "execution_count": 47,
   "metadata": {
    "scrolled": false
   },
   "outputs": [
    {
     "data": {
      "text/html": [
       "<div>\n",
       "<style scoped>\n",
       "    .dataframe tbody tr th:only-of-type {\n",
       "        vertical-align: middle;\n",
       "    }\n",
       "\n",
       "    .dataframe tbody tr th {\n",
       "        vertical-align: top;\n",
       "    }\n",
       "\n",
       "    .dataframe thead th {\n",
       "        text-align: right;\n",
       "    }\n",
       "</style>\n",
       "<table border=\"1\" class=\"dataframe\">\n",
       "  <thead>\n",
       "    <tr style=\"text-align: right;\">\n",
       "      <th></th>\n",
       "      <th>count</th>\n",
       "      <th>mean</th>\n",
       "      <th>std</th>\n",
       "      <th>min</th>\n",
       "      <th>25%</th>\n",
       "      <th>50%</th>\n",
       "      <th>75%</th>\n",
       "      <th>max</th>\n",
       "    </tr>\n",
       "  </thead>\n",
       "  <tbody>\n",
       "    <tr>\n",
       "      <th>UNIXTime</th>\n",
       "      <td>32686.0</td>\n",
       "      <td>1.478047e+09</td>\n",
       "      <td>3.005037e+06</td>\n",
       "      <td>1.472724e+09</td>\n",
       "      <td>1.475546e+09</td>\n",
       "      <td>1.478026e+09</td>\n",
       "      <td>1.480480e+09</td>\n",
       "      <td>1.483265e+09</td>\n",
       "    </tr>\n",
       "    <tr>\n",
       "      <th>Radiation</th>\n",
       "      <td>32686.0</td>\n",
       "      <td>2.071247e+02</td>\n",
       "      <td>3.159164e+02</td>\n",
       "      <td>1.110000e+00</td>\n",
       "      <td>1.230000e+00</td>\n",
       "      <td>2.660000e+00</td>\n",
       "      <td>3.542350e+02</td>\n",
       "      <td>1.601260e+03</td>\n",
       "    </tr>\n",
       "    <tr>\n",
       "      <th>Temperature</th>\n",
       "      <td>32686.0</td>\n",
       "      <td>5.110326e+01</td>\n",
       "      <td>6.201157e+00</td>\n",
       "      <td>3.400000e+01</td>\n",
       "      <td>4.600000e+01</td>\n",
       "      <td>5.000000e+01</td>\n",
       "      <td>5.500000e+01</td>\n",
       "      <td>7.100000e+01</td>\n",
       "    </tr>\n",
       "    <tr>\n",
       "      <th>Pressure</th>\n",
       "      <td>32686.0</td>\n",
       "      <td>3.042288e+01</td>\n",
       "      <td>5.467316e-02</td>\n",
       "      <td>3.019000e+01</td>\n",
       "      <td>3.040000e+01</td>\n",
       "      <td>3.043000e+01</td>\n",
       "      <td>3.046000e+01</td>\n",
       "      <td>3.056000e+01</td>\n",
       "    </tr>\n",
       "    <tr>\n",
       "      <th>Humidity</th>\n",
       "      <td>32686.0</td>\n",
       "      <td>7.501631e+01</td>\n",
       "      <td>2.599022e+01</td>\n",
       "      <td>8.000000e+00</td>\n",
       "      <td>5.600000e+01</td>\n",
       "      <td>8.500000e+01</td>\n",
       "      <td>9.700000e+01</td>\n",
       "      <td>1.030000e+02</td>\n",
       "    </tr>\n",
       "    <tr>\n",
       "      <th>WindDirection(Degrees)</th>\n",
       "      <td>32686.0</td>\n",
       "      <td>1.434898e+02</td>\n",
       "      <td>8.316750e+01</td>\n",
       "      <td>9.000000e-02</td>\n",
       "      <td>8.222750e+01</td>\n",
       "      <td>1.477000e+02</td>\n",
       "      <td>1.793100e+02</td>\n",
       "      <td>3.599500e+02</td>\n",
       "    </tr>\n",
       "    <tr>\n",
       "      <th>Speed</th>\n",
       "      <td>32686.0</td>\n",
       "      <td>6.243869e+00</td>\n",
       "      <td>3.490474e+00</td>\n",
       "      <td>0.000000e+00</td>\n",
       "      <td>3.370000e+00</td>\n",
       "      <td>5.620000e+00</td>\n",
       "      <td>7.870000e+00</td>\n",
       "      <td>4.050000e+01</td>\n",
       "    </tr>\n",
       "  </tbody>\n",
       "</table>\n",
       "</div>"
      ],
      "text/plain": [
       "                          count          mean           std           min  \\\n",
       "UNIXTime                32686.0  1.478047e+09  3.005037e+06  1.472724e+09   \n",
       "Radiation               32686.0  2.071247e+02  3.159164e+02  1.110000e+00   \n",
       "Temperature             32686.0  5.110326e+01  6.201157e+00  3.400000e+01   \n",
       "Pressure                32686.0  3.042288e+01  5.467316e-02  3.019000e+01   \n",
       "Humidity                32686.0  7.501631e+01  2.599022e+01  8.000000e+00   \n",
       "WindDirection(Degrees)  32686.0  1.434898e+02  8.316750e+01  9.000000e-02   \n",
       "Speed                   32686.0  6.243869e+00  3.490474e+00  0.000000e+00   \n",
       "\n",
       "                                 25%           50%           75%           max  \n",
       "UNIXTime                1.475546e+09  1.478026e+09  1.480480e+09  1.483265e+09  \n",
       "Radiation               1.230000e+00  2.660000e+00  3.542350e+02  1.601260e+03  \n",
       "Temperature             4.600000e+01  5.000000e+01  5.500000e+01  7.100000e+01  \n",
       "Pressure                3.040000e+01  3.043000e+01  3.046000e+01  3.056000e+01  \n",
       "Humidity                5.600000e+01  8.500000e+01  9.700000e+01  1.030000e+02  \n",
       "WindDirection(Degrees)  8.222750e+01  1.477000e+02  1.793100e+02  3.599500e+02  \n",
       "Speed                   3.370000e+00  5.620000e+00  7.870000e+00  4.050000e+01  "
      ]
     },
     "execution_count": 47,
     "metadata": {},
     "output_type": "execute_result"
    }
   ],
   "source": [
    "solar.describe().transpose()"
   ]
  },
  {
   "cell_type": "markdown",
   "metadata": {},
   "source": [
    "The ranges here identified look reasonable. In particular:\n",
    "\n",
    "- The Solar radiation assumes only positive values, and has a maximum value of 1600 W/m^2 (this is reasonable as the average solar radiation is estimated to be of around 1361 W/m^2);\n",
    "- The temperature ranges from 30.4 F to 71 F (This corresponds in a range between -1 C to 21 C);\n",
    "- The pressure variates very little, and in any case has a value of around 1 bar;\n",
    "- The Humidity has values over 100 %, but only very slightly. This can be considered acceptable for the scope of this work;\n",
    "- Wind direction is correctly in the range from 0 to 360 degrees. Notice that the direction 0 degrees and 360 degrees are the same measurement, hence some data transformation could be required to correctly account for this phenomena;\n",
    "- Wind speed is always positive, and its maximum value (40.5 miles/hour or 18 m/s) is reasonable as it corresponds to a grade 8 of the Beaufort scale."
   ]
  },
  {
   "cell_type": "code",
   "execution_count": 48,
   "metadata": {
    "scrolled": true
   },
   "outputs": [
    {
     "name": "stdout",
     "output_type": "stream",
     "text": [
      "<class 'pandas.core.frame.DataFrame'>\n",
      "RangeIndex: 32686 entries, 0 to 32685\n",
      "Data columns (total 11 columns):\n",
      " #   Column                  Non-Null Count  Dtype  \n",
      "---  ------                  --------------  -----  \n",
      " 0   UNIXTime                32686 non-null  int64  \n",
      " 1   Data                    32686 non-null  object \n",
      " 2   Time                    32686 non-null  object \n",
      " 3   Radiation               32686 non-null  float64\n",
      " 4   Temperature             32686 non-null  int64  \n",
      " 5   Pressure                32686 non-null  float64\n",
      " 6   Humidity                32686 non-null  int64  \n",
      " 7   WindDirection(Degrees)  32686 non-null  float64\n",
      " 8   Speed                   32686 non-null  float64\n",
      " 9   TimeSunRise             32686 non-null  object \n",
      " 10  TimeSunSet              32686 non-null  object \n",
      "dtypes: float64(4), int64(3), object(4)\n",
      "memory usage: 2.7+ MB\n"
     ]
    }
   ],
   "source": [
    "solar.info()"
   ]
  },
  {
   "cell_type": "markdown",
   "metadata": {},
   "source": [
    "# Data Preprocessing"
   ]
  },
  {
   "cell_type": "code",
   "execution_count": 49,
   "metadata": {},
   "outputs": [],
   "source": [
    "from datetime import datetime\n",
    "import datetime as dt\n",
    "from dateutil.tz import *"
   ]
  },
  {
   "cell_type": "code",
   "execution_count": 50,
   "metadata": {},
   "outputs": [],
   "source": [
    "#Converting UNIX time to datetime object\n",
    "solar['Date']= pd.to_datetime(solar['UNIXTime'],unit='s')\n",
    "\n",
    "#Setting the right timezone to the datetime object\n",
    "solar['Date'] = solar['Date'].dt.tz_localize('UTC').dt.tz_convert('HST')"
   ]
  },
  {
   "cell_type": "code",
   "execution_count": 51,
   "metadata": {
    "scrolled": true
   },
   "outputs": [
    {
     "data": {
      "text/plain": [
       "UNIXTime                                int64\n",
       "Data                                   object\n",
       "Time                                   object\n",
       "Radiation                             float64\n",
       "Temperature                             int64\n",
       "Pressure                              float64\n",
       "Humidity                                int64\n",
       "WindDirection(Degrees)                float64\n",
       "Speed                                 float64\n",
       "TimeSunRise                            object\n",
       "TimeSunSet                             object\n",
       "Date                      datetime64[ns, HST]\n",
       "dtype: object"
      ]
     },
     "execution_count": 51,
     "metadata": {},
     "output_type": "execute_result"
    }
   ],
   "source": [
    "solar.dtypes"
   ]
  },
  {
   "cell_type": "code",
   "execution_count": 52,
   "metadata": {},
   "outputs": [
    {
     "data": {
      "text/html": [
       "<div>\n",
       "<style scoped>\n",
       "    .dataframe tbody tr th:only-of-type {\n",
       "        vertical-align: middle;\n",
       "    }\n",
       "\n",
       "    .dataframe tbody tr th {\n",
       "        vertical-align: top;\n",
       "    }\n",
       "\n",
       "    .dataframe thead th {\n",
       "        text-align: right;\n",
       "    }\n",
       "</style>\n",
       "<table border=\"1\" class=\"dataframe\">\n",
       "  <thead>\n",
       "    <tr style=\"text-align: right;\">\n",
       "      <th></th>\n",
       "      <th>UNIXTime</th>\n",
       "      <th>Data</th>\n",
       "      <th>Time</th>\n",
       "      <th>Radiation</th>\n",
       "      <th>Temperature</th>\n",
       "      <th>Pressure</th>\n",
       "      <th>Humidity</th>\n",
       "      <th>WindDirection(Degrees)</th>\n",
       "      <th>Speed</th>\n",
       "      <th>TimeSunRise</th>\n",
       "      <th>TimeSunSet</th>\n",
       "      <th>Date</th>\n",
       "    </tr>\n",
       "  </thead>\n",
       "  <tbody>\n",
       "    <tr>\n",
       "      <th>0</th>\n",
       "      <td>1475229326</td>\n",
       "      <td>9/29/2016 12:00:00 AM</td>\n",
       "      <td>23:55:26</td>\n",
       "      <td>1.21</td>\n",
       "      <td>48</td>\n",
       "      <td>30.46</td>\n",
       "      <td>59</td>\n",
       "      <td>177.39</td>\n",
       "      <td>5.62</td>\n",
       "      <td>6:13:00</td>\n",
       "      <td>18:13:00</td>\n",
       "      <td>2016-09-29 23:55:26-10:00</td>\n",
       "    </tr>\n",
       "    <tr>\n",
       "      <th>1</th>\n",
       "      <td>1475229023</td>\n",
       "      <td>9/29/2016 12:00:00 AM</td>\n",
       "      <td>23:50:23</td>\n",
       "      <td>1.21</td>\n",
       "      <td>48</td>\n",
       "      <td>30.46</td>\n",
       "      <td>58</td>\n",
       "      <td>176.78</td>\n",
       "      <td>3.37</td>\n",
       "      <td>6:13:00</td>\n",
       "      <td>18:13:00</td>\n",
       "      <td>2016-09-29 23:50:23-10:00</td>\n",
       "    </tr>\n",
       "    <tr>\n",
       "      <th>2</th>\n",
       "      <td>1475228726</td>\n",
       "      <td>9/29/2016 12:00:00 AM</td>\n",
       "      <td>23:45:26</td>\n",
       "      <td>1.23</td>\n",
       "      <td>48</td>\n",
       "      <td>30.46</td>\n",
       "      <td>57</td>\n",
       "      <td>158.75</td>\n",
       "      <td>3.37</td>\n",
       "      <td>6:13:00</td>\n",
       "      <td>18:13:00</td>\n",
       "      <td>2016-09-29 23:45:26-10:00</td>\n",
       "    </tr>\n",
       "    <tr>\n",
       "      <th>3</th>\n",
       "      <td>1475228421</td>\n",
       "      <td>9/29/2016 12:00:00 AM</td>\n",
       "      <td>23:40:21</td>\n",
       "      <td>1.21</td>\n",
       "      <td>48</td>\n",
       "      <td>30.46</td>\n",
       "      <td>60</td>\n",
       "      <td>137.71</td>\n",
       "      <td>3.37</td>\n",
       "      <td>6:13:00</td>\n",
       "      <td>18:13:00</td>\n",
       "      <td>2016-09-29 23:40:21-10:00</td>\n",
       "    </tr>\n",
       "    <tr>\n",
       "      <th>4</th>\n",
       "      <td>1475228124</td>\n",
       "      <td>9/29/2016 12:00:00 AM</td>\n",
       "      <td>23:35:24</td>\n",
       "      <td>1.17</td>\n",
       "      <td>48</td>\n",
       "      <td>30.46</td>\n",
       "      <td>62</td>\n",
       "      <td>104.95</td>\n",
       "      <td>5.62</td>\n",
       "      <td>6:13:00</td>\n",
       "      <td>18:13:00</td>\n",
       "      <td>2016-09-29 23:35:24-10:00</td>\n",
       "    </tr>\n",
       "  </tbody>\n",
       "</table>\n",
       "</div>"
      ],
      "text/plain": [
       "     UNIXTime                   Data      Time  Radiation  Temperature  \\\n",
       "0  1475229326  9/29/2016 12:00:00 AM  23:55:26       1.21           48   \n",
       "1  1475229023  9/29/2016 12:00:00 AM  23:50:23       1.21           48   \n",
       "2  1475228726  9/29/2016 12:00:00 AM  23:45:26       1.23           48   \n",
       "3  1475228421  9/29/2016 12:00:00 AM  23:40:21       1.21           48   \n",
       "4  1475228124  9/29/2016 12:00:00 AM  23:35:24       1.17           48   \n",
       "\n",
       "   Pressure  Humidity  WindDirection(Degrees)  Speed TimeSunRise TimeSunSet  \\\n",
       "0     30.46        59                  177.39   5.62     6:13:00   18:13:00   \n",
       "1     30.46        58                  176.78   3.37     6:13:00   18:13:00   \n",
       "2     30.46        57                  158.75   3.37     6:13:00   18:13:00   \n",
       "3     30.46        60                  137.71   3.37     6:13:00   18:13:00   \n",
       "4     30.46        62                  104.95   5.62     6:13:00   18:13:00   \n",
       "\n",
       "                       Date  \n",
       "0 2016-09-29 23:55:26-10:00  \n",
       "1 2016-09-29 23:50:23-10:00  \n",
       "2 2016-09-29 23:45:26-10:00  \n",
       "3 2016-09-29 23:40:21-10:00  \n",
       "4 2016-09-29 23:35:24-10:00  "
      ]
     },
     "execution_count": 52,
     "metadata": {},
     "output_type": "execute_result"
    }
   ],
   "source": [
    "solar.head()"
   ]
  },
  {
   "cell_type": "code",
   "execution_count": 53,
   "metadata": {},
   "outputs": [],
   "source": [
    "solar['month'] = solar['Date'].dt.month"
   ]
  },
  {
   "cell_type": "code",
   "execution_count": 54,
   "metadata": {
    "scrolled": false
   },
   "outputs": [
    {
     "data": {
      "text/plain": [
       "UNIXTime                                int64\n",
       "Data                                   object\n",
       "Time                                   object\n",
       "Radiation                             float64\n",
       "Temperature                             int64\n",
       "Pressure                              float64\n",
       "Humidity                                int64\n",
       "WindDirection(Degrees)                float64\n",
       "Speed                                 float64\n",
       "TimeSunRise                            object\n",
       "TimeSunSet                             object\n",
       "Date                      datetime64[ns, HST]\n",
       "month                                   int64\n",
       "dtype: object"
      ]
     },
     "execution_count": 54,
     "metadata": {},
     "output_type": "execute_result"
    }
   ],
   "source": [
    "solar.dtypes"
   ]
  },
  {
   "cell_type": "code",
   "execution_count": 55,
   "metadata": {},
   "outputs": [
    {
     "data": {
      "text/html": [
       "<div>\n",
       "<style scoped>\n",
       "    .dataframe tbody tr th:only-of-type {\n",
       "        vertical-align: middle;\n",
       "    }\n",
       "\n",
       "    .dataframe tbody tr th {\n",
       "        vertical-align: top;\n",
       "    }\n",
       "\n",
       "    .dataframe thead th {\n",
       "        text-align: right;\n",
       "    }\n",
       "</style>\n",
       "<table border=\"1\" class=\"dataframe\">\n",
       "  <thead>\n",
       "    <tr style=\"text-align: right;\">\n",
       "      <th></th>\n",
       "      <th>UNIXTime</th>\n",
       "      <th>Data</th>\n",
       "      <th>Time</th>\n",
       "      <th>Radiation</th>\n",
       "      <th>Temperature</th>\n",
       "      <th>Pressure</th>\n",
       "      <th>Humidity</th>\n",
       "      <th>WindDirection(Degrees)</th>\n",
       "      <th>Speed</th>\n",
       "      <th>TimeSunRise</th>\n",
       "      <th>TimeSunSet</th>\n",
       "      <th>Date</th>\n",
       "      <th>month</th>\n",
       "    </tr>\n",
       "  </thead>\n",
       "  <tbody>\n",
       "    <tr>\n",
       "      <th>32681</th>\n",
       "      <td>1480587604</td>\n",
       "      <td>12-01-16 0:00</td>\n",
       "      <td>0:20:04</td>\n",
       "      <td>1.22</td>\n",
       "      <td>44</td>\n",
       "      <td>30.43</td>\n",
       "      <td>102</td>\n",
       "      <td>145.42</td>\n",
       "      <td>6.75</td>\n",
       "      <td>6:41:00</td>\n",
       "      <td>17:42:00</td>\n",
       "      <td>2016-12-01 00:20:04-10:00</td>\n",
       "      <td>12</td>\n",
       "    </tr>\n",
       "    <tr>\n",
       "      <th>32682</th>\n",
       "      <td>1480587301</td>\n",
       "      <td>12-01-16 0:00</td>\n",
       "      <td>0:15:01</td>\n",
       "      <td>1.17</td>\n",
       "      <td>44</td>\n",
       "      <td>30.42</td>\n",
       "      <td>102</td>\n",
       "      <td>117.78</td>\n",
       "      <td>6.75</td>\n",
       "      <td>6:41:00</td>\n",
       "      <td>17:42:00</td>\n",
       "      <td>2016-12-01 00:15:01-10:00</td>\n",
       "      <td>12</td>\n",
       "    </tr>\n",
       "    <tr>\n",
       "      <th>32683</th>\n",
       "      <td>1480587001</td>\n",
       "      <td>12-01-16 0:00</td>\n",
       "      <td>0:10:01</td>\n",
       "      <td>1.20</td>\n",
       "      <td>44</td>\n",
       "      <td>30.42</td>\n",
       "      <td>102</td>\n",
       "      <td>145.19</td>\n",
       "      <td>9.00</td>\n",
       "      <td>6:41:00</td>\n",
       "      <td>17:42:00</td>\n",
       "      <td>2016-12-01 00:10:01-10:00</td>\n",
       "      <td>12</td>\n",
       "    </tr>\n",
       "    <tr>\n",
       "      <th>32684</th>\n",
       "      <td>1480586702</td>\n",
       "      <td>12-01-16 0:00</td>\n",
       "      <td>0:05:02</td>\n",
       "      <td>1.23</td>\n",
       "      <td>44</td>\n",
       "      <td>30.42</td>\n",
       "      <td>101</td>\n",
       "      <td>164.19</td>\n",
       "      <td>7.87</td>\n",
       "      <td>6:41:00</td>\n",
       "      <td>17:42:00</td>\n",
       "      <td>2016-12-01 00:05:02-10:00</td>\n",
       "      <td>12</td>\n",
       "    </tr>\n",
       "    <tr>\n",
       "      <th>32685</th>\n",
       "      <td>1480586402</td>\n",
       "      <td>12-01-16 0:00</td>\n",
       "      <td>0:00:02</td>\n",
       "      <td>1.20</td>\n",
       "      <td>44</td>\n",
       "      <td>30.43</td>\n",
       "      <td>101</td>\n",
       "      <td>83.59</td>\n",
       "      <td>3.37</td>\n",
       "      <td>6:41:00</td>\n",
       "      <td>17:42:00</td>\n",
       "      <td>2016-12-01 00:00:02-10:00</td>\n",
       "      <td>12</td>\n",
       "    </tr>\n",
       "  </tbody>\n",
       "</table>\n",
       "</div>"
      ],
      "text/plain": [
       "         UNIXTime           Data     Time  Radiation  Temperature  Pressure  \\\n",
       "32681  1480587604  12-01-16 0:00  0:20:04       1.22           44     30.43   \n",
       "32682  1480587301  12-01-16 0:00  0:15:01       1.17           44     30.42   \n",
       "32683  1480587001  12-01-16 0:00  0:10:01       1.20           44     30.42   \n",
       "32684  1480586702  12-01-16 0:00  0:05:02       1.23           44     30.42   \n",
       "32685  1480586402  12-01-16 0:00  0:00:02       1.20           44     30.43   \n",
       "\n",
       "       Humidity  WindDirection(Degrees)  Speed TimeSunRise TimeSunSet  \\\n",
       "32681       102                  145.42   6.75     6:41:00   17:42:00   \n",
       "32682       102                  117.78   6.75     6:41:00   17:42:00   \n",
       "32683       102                  145.19   9.00     6:41:00   17:42:00   \n",
       "32684       101                  164.19   7.87     6:41:00   17:42:00   \n",
       "32685       101                   83.59   3.37     6:41:00   17:42:00   \n",
       "\n",
       "                           Date  month  \n",
       "32681 2016-12-01 00:20:04-10:00     12  \n",
       "32682 2016-12-01 00:15:01-10:00     12  \n",
       "32683 2016-12-01 00:10:01-10:00     12  \n",
       "32684 2016-12-01 00:05:02-10:00     12  \n",
       "32685 2016-12-01 00:00:02-10:00     12  "
      ]
     },
     "execution_count": 55,
     "metadata": {},
     "output_type": "execute_result"
    }
   ],
   "source": [
    "solar.tail()"
   ]
  },
  {
   "cell_type": "code",
   "execution_count": 56,
   "metadata": {},
   "outputs": [],
   "source": [
    "#Extracting date from Data column\n",
    "solar['Data'] = pd.to_datetime(solar['Data']).dt.date\n",
    "\n",
    "#Converting Sunrise and Sunset columns into datetime.time objects\n",
    "solar['TimeSunRise'] = pd.to_datetime(solar['TimeSunRise']).dt.time\n",
    "solar['TimeSunSet'] = pd.to_datetime(solar['TimeSunSet']).dt.time\n",
    "\n",
    "#Creating new sunset/sunrise columns featuring also the right date\n",
    "solar['sunrise_time'] = solar.apply(lambda row: pd.datetime.combine(row['Data'], row['TimeSunRise']), axis = 1)\n",
    "solar['sunset_time'] = solar.apply(lambda row: pd.datetime.combine(row['Data'], row['TimeSunSet']), axis = 1)\n",
    "\n",
    "#Adding approriate timezone\n",
    "solar['sunrise_time'] = solar['sunrise_time'].dt.tz_localize('HST')\n",
    "solar['sunset_time'] = solar['sunset_time'].dt.tz_localize('HST')"
   ]
  },
  {
   "cell_type": "markdown",
   "metadata": {},
   "source": [
    "Now that the date columns have been correctly identified as datetime objects, it is suitable to set the newly created **Date** column as index, sort the data by the index (ascending order), and drop the non-required columns."
   ]
  },
  {
   "cell_type": "code",
   "execution_count": 16,
   "metadata": {},
   "outputs": [],
   "source": [
    "#Setting 'Date' as index\n",
    "solar.set_index('Date', inplace = True)"
   ]
  },
  {
   "cell_type": "code",
   "execution_count": 17,
   "metadata": {},
   "outputs": [
    {
     "data": {
      "text/html": [
       "<div>\n",
       "<style scoped>\n",
       "    .dataframe tbody tr th:only-of-type {\n",
       "        vertical-align: middle;\n",
       "    }\n",
       "\n",
       "    .dataframe tbody tr th {\n",
       "        vertical-align: top;\n",
       "    }\n",
       "\n",
       "    .dataframe thead th {\n",
       "        text-align: right;\n",
       "    }\n",
       "</style>\n",
       "<table border=\"1\" class=\"dataframe\">\n",
       "  <thead>\n",
       "    <tr style=\"text-align: right;\">\n",
       "      <th></th>\n",
       "      <th>UNIXTime</th>\n",
       "      <th>Data</th>\n",
       "      <th>Time</th>\n",
       "      <th>Radiation</th>\n",
       "      <th>Temperature</th>\n",
       "      <th>Pressure</th>\n",
       "      <th>Humidity</th>\n",
       "      <th>WindDirection(Degrees)</th>\n",
       "      <th>Speed</th>\n",
       "      <th>TimeSunRise</th>\n",
       "      <th>TimeSunSet</th>\n",
       "      <th>month</th>\n",
       "      <th>sunrise_time</th>\n",
       "      <th>sunset_time</th>\n",
       "    </tr>\n",
       "    <tr>\n",
       "      <th>Date</th>\n",
       "      <th></th>\n",
       "      <th></th>\n",
       "      <th></th>\n",
       "      <th></th>\n",
       "      <th></th>\n",
       "      <th></th>\n",
       "      <th></th>\n",
       "      <th></th>\n",
       "      <th></th>\n",
       "      <th></th>\n",
       "      <th></th>\n",
       "      <th></th>\n",
       "      <th></th>\n",
       "      <th></th>\n",
       "    </tr>\n",
       "  </thead>\n",
       "  <tbody>\n",
       "    <tr>\n",
       "      <th>2016-09-01 00:00:08-10:00</th>\n",
       "      <td>1472724008</td>\n",
       "      <td>2016-09-01</td>\n",
       "      <td>0:00:08</td>\n",
       "      <td>2.58</td>\n",
       "      <td>51</td>\n",
       "      <td>30.43</td>\n",
       "      <td>103</td>\n",
       "      <td>77.27</td>\n",
       "      <td>11.25</td>\n",
       "      <td>06:07:00</td>\n",
       "      <td>18:38:00</td>\n",
       "      <td>9</td>\n",
       "      <td>2016-09-01 06:07:00-10:00</td>\n",
       "      <td>2016-09-01 18:38:00-10:00</td>\n",
       "    </tr>\n",
       "    <tr>\n",
       "      <th>2016-09-01 00:05:10-10:00</th>\n",
       "      <td>1472724310</td>\n",
       "      <td>2016-09-01</td>\n",
       "      <td>0:05:10</td>\n",
       "      <td>2.83</td>\n",
       "      <td>51</td>\n",
       "      <td>30.43</td>\n",
       "      <td>103</td>\n",
       "      <td>153.44</td>\n",
       "      <td>9.00</td>\n",
       "      <td>06:07:00</td>\n",
       "      <td>18:38:00</td>\n",
       "      <td>9</td>\n",
       "      <td>2016-09-01 06:07:00-10:00</td>\n",
       "      <td>2016-09-01 18:38:00-10:00</td>\n",
       "    </tr>\n",
       "    <tr>\n",
       "      <th>2016-09-01 00:20:06-10:00</th>\n",
       "      <td>1472725206</td>\n",
       "      <td>2016-09-01</td>\n",
       "      <td>0:20:06</td>\n",
       "      <td>2.16</td>\n",
       "      <td>51</td>\n",
       "      <td>30.43</td>\n",
       "      <td>103</td>\n",
       "      <td>142.04</td>\n",
       "      <td>7.87</td>\n",
       "      <td>06:07:00</td>\n",
       "      <td>18:38:00</td>\n",
       "      <td>9</td>\n",
       "      <td>2016-09-01 06:07:00-10:00</td>\n",
       "      <td>2016-09-01 18:38:00-10:00</td>\n",
       "    </tr>\n",
       "    <tr>\n",
       "      <th>2016-09-01 00:25:05-10:00</th>\n",
       "      <td>1472725505</td>\n",
       "      <td>2016-09-01</td>\n",
       "      <td>0:25:05</td>\n",
       "      <td>2.21</td>\n",
       "      <td>51</td>\n",
       "      <td>30.43</td>\n",
       "      <td>103</td>\n",
       "      <td>144.12</td>\n",
       "      <td>18.00</td>\n",
       "      <td>06:07:00</td>\n",
       "      <td>18:38:00</td>\n",
       "      <td>9</td>\n",
       "      <td>2016-09-01 06:07:00-10:00</td>\n",
       "      <td>2016-09-01 18:38:00-10:00</td>\n",
       "    </tr>\n",
       "    <tr>\n",
       "      <th>2016-09-01 00:30:09-10:00</th>\n",
       "      <td>1472725809</td>\n",
       "      <td>2016-09-01</td>\n",
       "      <td>0:30:09</td>\n",
       "      <td>2.25</td>\n",
       "      <td>51</td>\n",
       "      <td>30.43</td>\n",
       "      <td>103</td>\n",
       "      <td>67.42</td>\n",
       "      <td>11.25</td>\n",
       "      <td>06:07:00</td>\n",
       "      <td>18:38:00</td>\n",
       "      <td>9</td>\n",
       "      <td>2016-09-01 06:07:00-10:00</td>\n",
       "      <td>2016-09-01 18:38:00-10:00</td>\n",
       "    </tr>\n",
       "    <tr>\n",
       "      <th>...</th>\n",
       "      <td>...</td>\n",
       "      <td>...</td>\n",
       "      <td>...</td>\n",
       "      <td>...</td>\n",
       "      <td>...</td>\n",
       "      <td>...</td>\n",
       "      <td>...</td>\n",
       "      <td>...</td>\n",
       "      <td>...</td>\n",
       "      <td>...</td>\n",
       "      <td>...</td>\n",
       "      <td>...</td>\n",
       "      <td>...</td>\n",
       "      <td>...</td>\n",
       "    </tr>\n",
       "    <tr>\n",
       "      <th>2016-12-31 23:35:02-10:00</th>\n",
       "      <td>1483263302</td>\n",
       "      <td>2016-12-31</td>\n",
       "      <td>23:35:02</td>\n",
       "      <td>1.22</td>\n",
       "      <td>41</td>\n",
       "      <td>30.34</td>\n",
       "      <td>83</td>\n",
       "      <td>238.94</td>\n",
       "      <td>6.75</td>\n",
       "      <td>06:57:00</td>\n",
       "      <td>17:54:00</td>\n",
       "      <td>12</td>\n",
       "      <td>2016-12-31 06:57:00-10:00</td>\n",
       "      <td>2016-12-31 17:54:00-10:00</td>\n",
       "    </tr>\n",
       "    <tr>\n",
       "      <th>2016-12-31 23:40:01-10:00</th>\n",
       "      <td>1483263601</td>\n",
       "      <td>2016-12-31</td>\n",
       "      <td>23:40:01</td>\n",
       "      <td>1.21</td>\n",
       "      <td>41</td>\n",
       "      <td>30.34</td>\n",
       "      <td>82</td>\n",
       "      <td>236.79</td>\n",
       "      <td>5.62</td>\n",
       "      <td>06:57:00</td>\n",
       "      <td>17:54:00</td>\n",
       "      <td>12</td>\n",
       "      <td>2016-12-31 06:57:00-10:00</td>\n",
       "      <td>2016-12-31 17:54:00-10:00</td>\n",
       "    </tr>\n",
       "    <tr>\n",
       "      <th>2016-12-31 23:45:04-10:00</th>\n",
       "      <td>1483263904</td>\n",
       "      <td>2016-12-31</td>\n",
       "      <td>23:45:04</td>\n",
       "      <td>1.21</td>\n",
       "      <td>42</td>\n",
       "      <td>30.34</td>\n",
       "      <td>81</td>\n",
       "      <td>218.28</td>\n",
       "      <td>7.87</td>\n",
       "      <td>06:57:00</td>\n",
       "      <td>17:54:00</td>\n",
       "      <td>12</td>\n",
       "      <td>2016-12-31 06:57:00-10:00</td>\n",
       "      <td>2016-12-31 17:54:00-10:00</td>\n",
       "    </tr>\n",
       "    <tr>\n",
       "      <th>2016-12-31 23:50:03-10:00</th>\n",
       "      <td>1483264203</td>\n",
       "      <td>2016-12-31</td>\n",
       "      <td>23:50:03</td>\n",
       "      <td>1.19</td>\n",
       "      <td>41</td>\n",
       "      <td>30.34</td>\n",
       "      <td>80</td>\n",
       "      <td>215.23</td>\n",
       "      <td>7.87</td>\n",
       "      <td>06:57:00</td>\n",
       "      <td>17:54:00</td>\n",
       "      <td>12</td>\n",
       "      <td>2016-12-31 06:57:00-10:00</td>\n",
       "      <td>2016-12-31 17:54:00-10:00</td>\n",
       "    </tr>\n",
       "    <tr>\n",
       "      <th>2016-12-31 23:55:01-10:00</th>\n",
       "      <td>1483264501</td>\n",
       "      <td>2016-12-31</td>\n",
       "      <td>23:55:01</td>\n",
       "      <td>1.21</td>\n",
       "      <td>41</td>\n",
       "      <td>30.34</td>\n",
       "      <td>81</td>\n",
       "      <td>215.56</td>\n",
       "      <td>9.00</td>\n",
       "      <td>06:57:00</td>\n",
       "      <td>17:54:00</td>\n",
       "      <td>12</td>\n",
       "      <td>2016-12-31 06:57:00-10:00</td>\n",
       "      <td>2016-12-31 17:54:00-10:00</td>\n",
       "    </tr>\n",
       "  </tbody>\n",
       "</table>\n",
       "<p>32686 rows × 14 columns</p>\n",
       "</div>"
      ],
      "text/plain": [
       "                             UNIXTime        Data      Time  Radiation  \\\n",
       "Date                                                                     \n",
       "2016-09-01 00:00:08-10:00  1472724008  2016-09-01   0:00:08       2.58   \n",
       "2016-09-01 00:05:10-10:00  1472724310  2016-09-01   0:05:10       2.83   \n",
       "2016-09-01 00:20:06-10:00  1472725206  2016-09-01   0:20:06       2.16   \n",
       "2016-09-01 00:25:05-10:00  1472725505  2016-09-01   0:25:05       2.21   \n",
       "2016-09-01 00:30:09-10:00  1472725809  2016-09-01   0:30:09       2.25   \n",
       "...                               ...         ...       ...        ...   \n",
       "2016-12-31 23:35:02-10:00  1483263302  2016-12-31  23:35:02       1.22   \n",
       "2016-12-31 23:40:01-10:00  1483263601  2016-12-31  23:40:01       1.21   \n",
       "2016-12-31 23:45:04-10:00  1483263904  2016-12-31  23:45:04       1.21   \n",
       "2016-12-31 23:50:03-10:00  1483264203  2016-12-31  23:50:03       1.19   \n",
       "2016-12-31 23:55:01-10:00  1483264501  2016-12-31  23:55:01       1.21   \n",
       "\n",
       "                           Temperature  Pressure  Humidity  \\\n",
       "Date                                                         \n",
       "2016-09-01 00:00:08-10:00           51     30.43       103   \n",
       "2016-09-01 00:05:10-10:00           51     30.43       103   \n",
       "2016-09-01 00:20:06-10:00           51     30.43       103   \n",
       "2016-09-01 00:25:05-10:00           51     30.43       103   \n",
       "2016-09-01 00:30:09-10:00           51     30.43       103   \n",
       "...                                ...       ...       ...   \n",
       "2016-12-31 23:35:02-10:00           41     30.34        83   \n",
       "2016-12-31 23:40:01-10:00           41     30.34        82   \n",
       "2016-12-31 23:45:04-10:00           42     30.34        81   \n",
       "2016-12-31 23:50:03-10:00           41     30.34        80   \n",
       "2016-12-31 23:55:01-10:00           41     30.34        81   \n",
       "\n",
       "                           WindDirection(Degrees)  Speed TimeSunRise  \\\n",
       "Date                                                                   \n",
       "2016-09-01 00:00:08-10:00                   77.27  11.25    06:07:00   \n",
       "2016-09-01 00:05:10-10:00                  153.44   9.00    06:07:00   \n",
       "2016-09-01 00:20:06-10:00                  142.04   7.87    06:07:00   \n",
       "2016-09-01 00:25:05-10:00                  144.12  18.00    06:07:00   \n",
       "2016-09-01 00:30:09-10:00                   67.42  11.25    06:07:00   \n",
       "...                                           ...    ...         ...   \n",
       "2016-12-31 23:35:02-10:00                  238.94   6.75    06:57:00   \n",
       "2016-12-31 23:40:01-10:00                  236.79   5.62    06:57:00   \n",
       "2016-12-31 23:45:04-10:00                  218.28   7.87    06:57:00   \n",
       "2016-12-31 23:50:03-10:00                  215.23   7.87    06:57:00   \n",
       "2016-12-31 23:55:01-10:00                  215.56   9.00    06:57:00   \n",
       "\n",
       "                          TimeSunSet  month              sunrise_time  \\\n",
       "Date                                                                    \n",
       "2016-09-01 00:00:08-10:00   18:38:00      9 2016-09-01 06:07:00-10:00   \n",
       "2016-09-01 00:05:10-10:00   18:38:00      9 2016-09-01 06:07:00-10:00   \n",
       "2016-09-01 00:20:06-10:00   18:38:00      9 2016-09-01 06:07:00-10:00   \n",
       "2016-09-01 00:25:05-10:00   18:38:00      9 2016-09-01 06:07:00-10:00   \n",
       "2016-09-01 00:30:09-10:00   18:38:00      9 2016-09-01 06:07:00-10:00   \n",
       "...                              ...    ...                       ...   \n",
       "2016-12-31 23:35:02-10:00   17:54:00     12 2016-12-31 06:57:00-10:00   \n",
       "2016-12-31 23:40:01-10:00   17:54:00     12 2016-12-31 06:57:00-10:00   \n",
       "2016-12-31 23:45:04-10:00   17:54:00     12 2016-12-31 06:57:00-10:00   \n",
       "2016-12-31 23:50:03-10:00   17:54:00     12 2016-12-31 06:57:00-10:00   \n",
       "2016-12-31 23:55:01-10:00   17:54:00     12 2016-12-31 06:57:00-10:00   \n",
       "\n",
       "                                        sunset_time  \n",
       "Date                                                 \n",
       "2016-09-01 00:00:08-10:00 2016-09-01 18:38:00-10:00  \n",
       "2016-09-01 00:05:10-10:00 2016-09-01 18:38:00-10:00  \n",
       "2016-09-01 00:20:06-10:00 2016-09-01 18:38:00-10:00  \n",
       "2016-09-01 00:25:05-10:00 2016-09-01 18:38:00-10:00  \n",
       "2016-09-01 00:30:09-10:00 2016-09-01 18:38:00-10:00  \n",
       "...                                             ...  \n",
       "2016-12-31 23:35:02-10:00 2016-12-31 17:54:00-10:00  \n",
       "2016-12-31 23:40:01-10:00 2016-12-31 17:54:00-10:00  \n",
       "2016-12-31 23:45:04-10:00 2016-12-31 17:54:00-10:00  \n",
       "2016-12-31 23:50:03-10:00 2016-12-31 17:54:00-10:00  \n",
       "2016-12-31 23:55:01-10:00 2016-12-31 17:54:00-10:00  \n",
       "\n",
       "[32686 rows x 14 columns]"
      ]
     },
     "execution_count": 17,
     "metadata": {},
     "output_type": "execute_result"
    }
   ],
   "source": [
    "#Sorting by the index\n",
    "solar.sort_index()"
   ]
  },
  {
   "cell_type": "code",
   "execution_count": 18,
   "metadata": {},
   "outputs": [
    {
     "data": {
      "text/plain": [
       "UNIXTime                                int64\n",
       "Data                                   object\n",
       "Time                                   object\n",
       "Radiation                             float64\n",
       "Temperature                             int64\n",
       "Pressure                              float64\n",
       "Humidity                                int64\n",
       "WindDirection(Degrees)                float64\n",
       "Speed                                 float64\n",
       "TimeSunRise                            object\n",
       "TimeSunSet                             object\n",
       "month                                   int64\n",
       "sunrise_time              datetime64[ns, HST]\n",
       "sunset_time               datetime64[ns, HST]\n",
       "dtype: object"
      ]
     },
     "execution_count": 18,
     "metadata": {},
     "output_type": "execute_result"
    }
   ],
   "source": [
    "solar.dtypes"
   ]
  },
  {
   "cell_type": "code",
   "execution_count": 19,
   "metadata": {},
   "outputs": [],
   "source": [
    "solar.drop(columns = ['Data', 'Time', 'TimeSunRise', 'TimeSunSet'], inplace = True)"
   ]
  },
  {
   "cell_type": "code",
   "execution_count": 20,
   "metadata": {},
   "outputs": [
    {
     "data": {
      "text/html": [
       "<div>\n",
       "<style scoped>\n",
       "    .dataframe tbody tr th:only-of-type {\n",
       "        vertical-align: middle;\n",
       "    }\n",
       "\n",
       "    .dataframe tbody tr th {\n",
       "        vertical-align: top;\n",
       "    }\n",
       "\n",
       "    .dataframe thead th {\n",
       "        text-align: right;\n",
       "    }\n",
       "</style>\n",
       "<table border=\"1\" class=\"dataframe\">\n",
       "  <thead>\n",
       "    <tr style=\"text-align: right;\">\n",
       "      <th></th>\n",
       "      <th>UNIXTime</th>\n",
       "      <th>Radiation</th>\n",
       "      <th>Temperature</th>\n",
       "      <th>Pressure</th>\n",
       "      <th>Humidity</th>\n",
       "      <th>WindDirection(Degrees)</th>\n",
       "      <th>Speed</th>\n",
       "      <th>month</th>\n",
       "      <th>sunrise_time</th>\n",
       "      <th>sunset_time</th>\n",
       "    </tr>\n",
       "    <tr>\n",
       "      <th>Date</th>\n",
       "      <th></th>\n",
       "      <th></th>\n",
       "      <th></th>\n",
       "      <th></th>\n",
       "      <th></th>\n",
       "      <th></th>\n",
       "      <th></th>\n",
       "      <th></th>\n",
       "      <th></th>\n",
       "      <th></th>\n",
       "    </tr>\n",
       "  </thead>\n",
       "  <tbody>\n",
       "    <tr>\n",
       "      <th>2016-09-29 23:55:26-10:00</th>\n",
       "      <td>1475229326</td>\n",
       "      <td>1.21</td>\n",
       "      <td>48</td>\n",
       "      <td>30.46</td>\n",
       "      <td>59</td>\n",
       "      <td>177.39</td>\n",
       "      <td>5.62</td>\n",
       "      <td>9</td>\n",
       "      <td>2016-09-29 06:13:00-10:00</td>\n",
       "      <td>2016-09-29 18:13:00-10:00</td>\n",
       "    </tr>\n",
       "    <tr>\n",
       "      <th>2016-09-29 23:50:23-10:00</th>\n",
       "      <td>1475229023</td>\n",
       "      <td>1.21</td>\n",
       "      <td>48</td>\n",
       "      <td>30.46</td>\n",
       "      <td>58</td>\n",
       "      <td>176.78</td>\n",
       "      <td>3.37</td>\n",
       "      <td>9</td>\n",
       "      <td>2016-09-29 06:13:00-10:00</td>\n",
       "      <td>2016-09-29 18:13:00-10:00</td>\n",
       "    </tr>\n",
       "    <tr>\n",
       "      <th>2016-09-29 23:45:26-10:00</th>\n",
       "      <td>1475228726</td>\n",
       "      <td>1.23</td>\n",
       "      <td>48</td>\n",
       "      <td>30.46</td>\n",
       "      <td>57</td>\n",
       "      <td>158.75</td>\n",
       "      <td>3.37</td>\n",
       "      <td>9</td>\n",
       "      <td>2016-09-29 06:13:00-10:00</td>\n",
       "      <td>2016-09-29 18:13:00-10:00</td>\n",
       "    </tr>\n",
       "    <tr>\n",
       "      <th>2016-09-29 23:40:21-10:00</th>\n",
       "      <td>1475228421</td>\n",
       "      <td>1.21</td>\n",
       "      <td>48</td>\n",
       "      <td>30.46</td>\n",
       "      <td>60</td>\n",
       "      <td>137.71</td>\n",
       "      <td>3.37</td>\n",
       "      <td>9</td>\n",
       "      <td>2016-09-29 06:13:00-10:00</td>\n",
       "      <td>2016-09-29 18:13:00-10:00</td>\n",
       "    </tr>\n",
       "    <tr>\n",
       "      <th>2016-09-29 23:35:24-10:00</th>\n",
       "      <td>1475228124</td>\n",
       "      <td>1.17</td>\n",
       "      <td>48</td>\n",
       "      <td>30.46</td>\n",
       "      <td>62</td>\n",
       "      <td>104.95</td>\n",
       "      <td>5.62</td>\n",
       "      <td>9</td>\n",
       "      <td>2016-09-29 06:13:00-10:00</td>\n",
       "      <td>2016-09-29 18:13:00-10:00</td>\n",
       "    </tr>\n",
       "  </tbody>\n",
       "</table>\n",
       "</div>"
      ],
      "text/plain": [
       "                             UNIXTime  Radiation  Temperature  Pressure  \\\n",
       "Date                                                                      \n",
       "2016-09-29 23:55:26-10:00  1475229326       1.21           48     30.46   \n",
       "2016-09-29 23:50:23-10:00  1475229023       1.21           48     30.46   \n",
       "2016-09-29 23:45:26-10:00  1475228726       1.23           48     30.46   \n",
       "2016-09-29 23:40:21-10:00  1475228421       1.21           48     30.46   \n",
       "2016-09-29 23:35:24-10:00  1475228124       1.17           48     30.46   \n",
       "\n",
       "                           Humidity  WindDirection(Degrees)  Speed  month  \\\n",
       "Date                                                                        \n",
       "2016-09-29 23:55:26-10:00        59                  177.39   5.62      9   \n",
       "2016-09-29 23:50:23-10:00        58                  176.78   3.37      9   \n",
       "2016-09-29 23:45:26-10:00        57                  158.75   3.37      9   \n",
       "2016-09-29 23:40:21-10:00        60                  137.71   3.37      9   \n",
       "2016-09-29 23:35:24-10:00        62                  104.95   5.62      9   \n",
       "\n",
       "                                       sunrise_time               sunset_time  \n",
       "Date                                                                           \n",
       "2016-09-29 23:55:26-10:00 2016-09-29 06:13:00-10:00 2016-09-29 18:13:00-10:00  \n",
       "2016-09-29 23:50:23-10:00 2016-09-29 06:13:00-10:00 2016-09-29 18:13:00-10:00  \n",
       "2016-09-29 23:45:26-10:00 2016-09-29 06:13:00-10:00 2016-09-29 18:13:00-10:00  \n",
       "2016-09-29 23:40:21-10:00 2016-09-29 06:13:00-10:00 2016-09-29 18:13:00-10:00  \n",
       "2016-09-29 23:35:24-10:00 2016-09-29 06:13:00-10:00 2016-09-29 18:13:00-10:00  "
      ]
     },
     "execution_count": 20,
     "metadata": {},
     "output_type": "execute_result"
    }
   ],
   "source": [
    "#Inspecting the first rows of the dataset\n",
    "solar.head()"
   ]
  },
  {
   "cell_type": "markdown",
   "metadata": {},
   "source": [
    "# Correlation Analysis"
   ]
  },
  {
   "cell_type": "code",
   "execution_count": 21,
   "metadata": {},
   "outputs": [
    {
     "data": {
      "text/html": [
       "<div>\n",
       "<style scoped>\n",
       "    .dataframe tbody tr th:only-of-type {\n",
       "        vertical-align: middle;\n",
       "    }\n",
       "\n",
       "    .dataframe tbody tr th {\n",
       "        vertical-align: top;\n",
       "    }\n",
       "\n",
       "    .dataframe thead th {\n",
       "        text-align: right;\n",
       "    }\n",
       "</style>\n",
       "<table border=\"1\" class=\"dataframe\">\n",
       "  <thead>\n",
       "    <tr style=\"text-align: right;\">\n",
       "      <th></th>\n",
       "      <th>UNIXTime</th>\n",
       "      <th>Radiation</th>\n",
       "      <th>Temperature</th>\n",
       "      <th>Pressure</th>\n",
       "      <th>Humidity</th>\n",
       "      <th>WindDirection(Degrees)</th>\n",
       "      <th>Speed</th>\n",
       "      <th>month</th>\n",
       "    </tr>\n",
       "  </thead>\n",
       "  <tbody>\n",
       "    <tr>\n",
       "      <th>UNIXTime</th>\n",
       "      <td>1.000000</td>\n",
       "      <td>-0.081286</td>\n",
       "      <td>-0.369169</td>\n",
       "      <td>-0.332016</td>\n",
       "      <td>-0.063117</td>\n",
       "      <td>0.152613</td>\n",
       "      <td>0.173860</td>\n",
       "      <td>0.968235</td>\n",
       "    </tr>\n",
       "    <tr>\n",
       "      <th>Radiation</th>\n",
       "      <td>-0.081286</td>\n",
       "      <td>1.000000</td>\n",
       "      <td>0.734955</td>\n",
       "      <td>0.119016</td>\n",
       "      <td>-0.226171</td>\n",
       "      <td>-0.230324</td>\n",
       "      <td>0.073627</td>\n",
       "      <td>-0.095450</td>\n",
       "    </tr>\n",
       "    <tr>\n",
       "      <th>Temperature</th>\n",
       "      <td>-0.369169</td>\n",
       "      <td>0.734955</td>\n",
       "      <td>1.000000</td>\n",
       "      <td>0.311173</td>\n",
       "      <td>-0.285055</td>\n",
       "      <td>-0.259421</td>\n",
       "      <td>-0.031458</td>\n",
       "      <td>-0.354560</td>\n",
       "    </tr>\n",
       "    <tr>\n",
       "      <th>Pressure</th>\n",
       "      <td>-0.332016</td>\n",
       "      <td>0.119016</td>\n",
       "      <td>0.311173</td>\n",
       "      <td>1.000000</td>\n",
       "      <td>-0.223973</td>\n",
       "      <td>-0.229010</td>\n",
       "      <td>-0.083639</td>\n",
       "      <td>-0.341759</td>\n",
       "    </tr>\n",
       "    <tr>\n",
       "      <th>Humidity</th>\n",
       "      <td>-0.063117</td>\n",
       "      <td>-0.226171</td>\n",
       "      <td>-0.285055</td>\n",
       "      <td>-0.223973</td>\n",
       "      <td>1.000000</td>\n",
       "      <td>-0.001833</td>\n",
       "      <td>-0.211624</td>\n",
       "      <td>-0.068854</td>\n",
       "    </tr>\n",
       "    <tr>\n",
       "      <th>WindDirection(Degrees)</th>\n",
       "      <td>0.152613</td>\n",
       "      <td>-0.230324</td>\n",
       "      <td>-0.259421</td>\n",
       "      <td>-0.229010</td>\n",
       "      <td>-0.001833</td>\n",
       "      <td>1.000000</td>\n",
       "      <td>0.073092</td>\n",
       "      <td>0.181485</td>\n",
       "    </tr>\n",
       "    <tr>\n",
       "      <th>Speed</th>\n",
       "      <td>0.173860</td>\n",
       "      <td>0.073627</td>\n",
       "      <td>-0.031458</td>\n",
       "      <td>-0.083639</td>\n",
       "      <td>-0.211624</td>\n",
       "      <td>0.073092</td>\n",
       "      <td>1.000000</td>\n",
       "      <td>0.150822</td>\n",
       "    </tr>\n",
       "    <tr>\n",
       "      <th>month</th>\n",
       "      <td>0.968235</td>\n",
       "      <td>-0.095450</td>\n",
       "      <td>-0.354560</td>\n",
       "      <td>-0.341759</td>\n",
       "      <td>-0.068854</td>\n",
       "      <td>0.181485</td>\n",
       "      <td>0.150822</td>\n",
       "      <td>1.000000</td>\n",
       "    </tr>\n",
       "  </tbody>\n",
       "</table>\n",
       "</div>"
      ],
      "text/plain": [
       "                        UNIXTime  Radiation  Temperature  Pressure  Humidity  \\\n",
       "UNIXTime                1.000000  -0.081286    -0.369169 -0.332016 -0.063117   \n",
       "Radiation              -0.081286   1.000000     0.734955  0.119016 -0.226171   \n",
       "Temperature            -0.369169   0.734955     1.000000  0.311173 -0.285055   \n",
       "Pressure               -0.332016   0.119016     0.311173  1.000000 -0.223973   \n",
       "Humidity               -0.063117  -0.226171    -0.285055 -0.223973  1.000000   \n",
       "WindDirection(Degrees)  0.152613  -0.230324    -0.259421 -0.229010 -0.001833   \n",
       "Speed                   0.173860   0.073627    -0.031458 -0.083639 -0.211624   \n",
       "month                   0.968235  -0.095450    -0.354560 -0.341759 -0.068854   \n",
       "\n",
       "                        WindDirection(Degrees)     Speed     month  \n",
       "UNIXTime                              0.152613  0.173860  0.968235  \n",
       "Radiation                            -0.230324  0.073627 -0.095450  \n",
       "Temperature                          -0.259421 -0.031458 -0.354560  \n",
       "Pressure                             -0.229010 -0.083639 -0.341759  \n",
       "Humidity                             -0.001833 -0.211624 -0.068854  \n",
       "WindDirection(Degrees)                1.000000  0.073092  0.181485  \n",
       "Speed                                 0.073092  1.000000  0.150822  \n",
       "month                                 0.181485  0.150822  1.000000  "
      ]
     },
     "execution_count": 21,
     "metadata": {},
     "output_type": "execute_result"
    }
   ],
   "source": [
    "solar.corr()"
   ]
  },
  {
   "cell_type": "code",
   "execution_count": 22,
   "metadata": {
    "scrolled": false
   },
   "outputs": [
    {
     "data": {
      "image/png": "[encoded data removed]",
      "text/plain": [
       "<Figure size 576x576 with 2 Axes>"
      ]
     },
     "metadata": {
      "needs_background": "light"
     },
     "output_type": "display_data"
    }
   ],
   "source": [
    "#get correlations of each features in dataset\n",
    "\n",
    "corrmat = solar.corr()\n",
    "top_corr_features = corrmat.index\n",
    "plt.figure(figsize=(8,8))\n",
    "#plot heat map\n",
    "g=sns.heatmap(solar[top_corr_features].corr(),annot=True,cmap=\"RdYlGn\")"
   ]
  },
  {
   "cell_type": "code",
   "execution_count": 23,
   "metadata": {},
   "outputs": [
    {
     "data": {
      "text/plain": [
       "Radiation                 1.000000\n",
       "Temperature               0.734955\n",
       "Pressure                  0.119016\n",
       "Speed                     0.073627\n",
       "UNIXTime                 -0.081286\n",
       "month                    -0.095450\n",
       "Humidity                 -0.226171\n",
       "WindDirection(Degrees)   -0.230324\n",
       "Name: Radiation, dtype: float64"
      ]
     },
     "execution_count": 23,
     "metadata": {},
     "output_type": "execute_result"
    }
   ],
   "source": [
    "solar.corr()[\"Radiation\"].sort_values(ascending = False)"
   ]
  },
  {
   "cell_type": "markdown",
   "metadata": {},
   "source": [
    "# What are the dependencies between:"
   ]
  },
  {
   "cell_type": "markdown",
   "metadata": {},
   "source": [
    "## Humidity & Solar radiation"
   ]
  },
  {
   "cell_type": "code",
   "execution_count": 42,
   "metadata": {},
   "outputs": [
    {
     "data": {
      "text/plain": [
       "[<matplotlib.lines.Line2D at 0x23d823b0880>]"
      ]
     },
     "execution_count": 42,
     "metadata": {},
     "output_type": "execute_result"
    },
    {
     "data": {
      "image/png": "[encoded data removed]",
      "text/plain": [
       "<Figure size 1152x576 with 1 Axes>"
      ]
     },
     "metadata": {
      "needs_background": "light"
     },
     "output_type": "display_data"
    }
   ],
   "source": [
    "from sklearn.linear_model import LinearRegression\n",
    "Linear_Reg = LinearRegression()\n",
    "x=solar.Humidity.values.reshape(-1,1)\n",
    "y=solar.Radiation.values.reshape(-1,1)\n",
    "\n",
    "Linear_Reg.fit(x,y)\n",
    "\n",
    "y_head=Linear_Reg.predict(x)\n",
    "\n",
    "plt.scatter(solar.Humidity,solar.Radiation)\n",
    "plt.xlabel(\"Humidity\")\n",
    "plt.ylabel(\"Radiation\")\n",
    "plt.title('Solar Radiation versus Humidity')\n",
    "plt.plot(x,y_head,color=\"orange\")"
   ]
  },
  {
   "cell_type": "code",
   "execution_count": 25,
   "metadata": {},
   "outputs": [
    {
     "name": "stdout",
     "output_type": "stream",
     "text": [
      "r2_score 0.051153161622292\n"
     ]
    }
   ],
   "source": [
    "from sklearn.metrics import r2_score\n",
    "print(\"r2_score\",r2_score(y,y_head))"
   ]
  },
  {
   "cell_type": "code",
   "execution_count": 26,
   "metadata": {
    "scrolled": true
   },
   "outputs": [
    {
     "data": {
      "image/png": "[encoded data removed]",
      "text/plain": [
       "<Figure size 1728x576 with 1 Axes>"
      ]
     },
     "metadata": {
      "needs_background": "light"
     },
     "output_type": "display_data"
    }
   ],
   "source": [
    "#Plot solar reading against temperature\n",
    "plt.figure(figsize=(24,8))\n",
    "sns.barplot(x=solar['Humidity'].round(decimals=0),y=solar['Radiation'])\n",
    "plt.xlabel('Humidity')\n",
    "plt.ylabel('Radiation')\n",
    "plt.title('Solar Radiation versus Humidity')\n",
    "plt.show()"
   ]
  },
  {
   "cell_type": "markdown",
   "metadata": {},
   "source": [
    "## Temeperature & Solar radiation"
   ]
  },
  {
   "cell_type": "code",
   "execution_count": 43,
   "metadata": {},
   "outputs": [
    {
     "data": {
      "text/plain": [
       "[<matplotlib.lines.Line2D at 0x23d82416a00>]"
      ]
     },
     "execution_count": 43,
     "metadata": {},
     "output_type": "execute_result"
    },
    {
     "data": {
      "image/png": "[encoded data removed]",
      "text/plain": [
       "<Figure size 1152x576 with 1 Axes>"
      ]
     },
     "metadata": {
      "needs_background": "light"
     },
     "output_type": "display_data"
    }
   ],
   "source": [
    "from sklearn.linear_model import LinearRegression\n",
    "Linear_Reg = LinearRegression()\n",
    "x=solar.Temperature.values.reshape(-1,1)\n",
    "y=solar.Radiation.values.reshape(-1,1)\n",
    "\n",
    "Linear_Reg.fit(x,y)\n",
    "\n",
    "y_head=Linear_Reg.predict(x)\n",
    "\n",
    "plt.scatter(solar.Temperature,solar.Radiation)\n",
    "plt.xlabel(\"Temperature\")\n",
    "plt.ylabel(\"Radiation\")\n",
    "plt.title('Solar Radiation versus Temperature')\n",
    "plt.plot(x,y_head,color=\"orange\")"
   ]
  },
  {
   "cell_type": "code",
   "execution_count": 28,
   "metadata": {},
   "outputs": [
    {
     "name": "stdout",
     "output_type": "stream",
     "text": [
      "r2_score 0.5401584925375957\n"
     ]
    }
   ],
   "source": [
    "from sklearn.metrics import r2_score\n",
    "print(\"r2_score\",r2_score(y,y_head))"
   ]
  },
  {
   "cell_type": "code",
   "execution_count": 29,
   "metadata": {
    "scrolled": true
   },
   "outputs": [
    {
     "data": {
      "image/png": "[encoded data removed]",
      "text/plain": [
       "<Figure size 1728x576 with 1 Axes>"
      ]
     },
     "metadata": {
      "needs_background": "light"
     },
     "output_type": "display_data"
    }
   ],
   "source": [
    "#Plot solar reading against temperature\n",
    "plt.figure(figsize=(24,8))\n",
    "sns.barplot(x=solar['Temperature'].round(decimals=0),y=solar['Radiation'])\n",
    "plt.xlabel('Temperature (C)')\n",
    "plt.ylabel('Radiation')\n",
    "plt.title('Solar Radiation versus Temperature')\n",
    "plt.show()"
   ]
  },
  {
   "cell_type": "markdown",
   "metadata": {},
   "source": [
    "# month vs solar radiation"
   ]
  },
  {
   "cell_type": "code",
   "execution_count": 41,
   "metadata": {},
   "outputs": [
    {
     "data": {
      "image/png": "[encoded data removed]",
      "text/plain": [
       "<Figure size 1152x576 with 1 Axes>"
      ]
     },
     "metadata": {
      "needs_background": "light"
     },
     "output_type": "display_data"
    }
   ],
   "source": [
    "#Scope our dataset from September to December\n",
    "plt.rcParams['figure.figsize'] = (16,8)\n",
    "months = np.arange(9,13)\n",
    "rad_vs_month=solar.loc[:, ['Radiation', 'month']].groupby('month').sum()\n",
    "rad_vs_month.plot()\n",
    "\n",
    "plt.xticks(months,['September', 'October', 'November', 'December'], rotation=30)\n",
    "plt.ylabel('Radiation')\n",
    "plt.title('Solar Radiation versus Month')\n",
    "plt.show()"
   ]
  },
  {
   "cell_type": "code",
   "execution_count": null,
   "metadata": {},
   "outputs": [],
   "source": []
  },
  {
   "cell_type": "markdown",
   "metadata": {},
   "source": [
    "# Building ML Model"
   ]
  },
  {
   "cell_type": "code",
   "execution_count": 32,
   "metadata": {},
   "outputs": [],
   "source": [
    "solar.drop(columns = ['sunrise_time', 'sunset_time'], inplace = True)\n",
    "\n",
    "y = solar['Radiation']     # Dependent / Target Attribute\n",
    "\n",
    "X = solar.drop('Radiation', axis=1) # Independetn/ Input"
   ]
  },
  {
   "cell_type": "code",
   "execution_count": 33,
   "metadata": {},
   "outputs": [],
   "source": [
    "from sklearn.model_selection import train_test_split\n",
    "X_train, X_test, y_train, y_test = train_test_split(X,y,test_size=.30, random_state=300,shuffle=True)"
   ]
  },
  {
   "cell_type": "code",
   "execution_count": 35,
   "metadata": {},
   "outputs": [
    {
     "data": {
      "text/plain": [
       "LinearRegression()"
      ]
     },
     "execution_count": 35,
     "metadata": {},
     "output_type": "execute_result"
    }
   ],
   "source": [
    "from sklearn.neighbors import KNeighborsRegressor\n",
    "from sklearn.linear_model import LinearRegression\n",
    "\n",
    "knn_model = KNeighborsRegressor()\n",
    "knn_model.fit(X_train, y_train)\n",
    "\n",
    "linear_model=LinearRegression()\n",
    "linear_model.fit(X_train,y_train)"
   ]
  },
  {
   "cell_type": "markdown",
   "metadata": {},
   "source": [
    "# Model Evalutation"
   ]
  },
  {
   "cell_type": "code",
   "execution_count": 36,
   "metadata": {},
   "outputs": [],
   "source": [
    "from sklearn.metrics import mean_absolute_error, mean_squared_error"
   ]
  },
  {
   "cell_type": "code",
   "execution_count": 37,
   "metadata": {},
   "outputs": [],
   "source": [
    "def report(model):\n",
    "    y_pred = model.predict(X_test)       # Making Predictions using Test dataset\n",
    "    \n",
    "    MAE= mean_absolute_error(y_pred,y_test)    # Error = Actual - Predicted\n",
    "    MSE=mean_squared_error(y_pred,y_test)\n",
    "    RMSE=np.sqrt(MSE)\n",
    "    \n",
    "    print('Mean Absolute Error: '+str(MAE))\n",
    "    print('Mean Sequared Error: '+str(MSE))\n",
    "    print('Root Mean Squared Error: '+str(RMSE))\n",
    "    \n",
    "    print(\"Train Score:\" + str(model.score(X_train, y_train)))\n",
    "    print(\"Test Score:\" + str(model.score(X_test,y_test)))"
   ]
  },
  {
   "cell_type": "code",
   "execution_count": 38,
   "metadata": {},
   "outputs": [
    {
     "name": "stdout",
     "output_type": "stream",
     "text": [
      "Linear Regression\n",
      "Mean Absolute Error: 151.14045455087253\n",
      "Root Mean Squared Error: 198.97845424348722\n",
      "Train Score:0.5990414453773922\n",
      "Test Score:0.6011198412021178\n"
     ]
    }
   ],
   "source": [
    "print('Linear Regression')\n",
    "report(linear_model)"
   ]
  },
  {
   "cell_type": "code",
   "execution_count": 39,
   "metadata": {},
   "outputs": [
    {
     "name": "stdout",
     "output_type": "stream",
     "text": [
      "KNN Regressor\n",
      "Mean Absolute Error: 25.944583928207216\n",
      "Root Mean Squared Error: 73.95401924601265\n",
      "Train Score:0.962982634225609\n",
      "Test Score:0.9448997089971837\n"
     ]
    }
   ],
   "source": [
    "print('KNN Regressor')\n",
    "report(knn_model)"
   ]
  },
  {
   "cell_type": "code",
   "execution_count": null,
   "metadata": {},
   "outputs": [],
   "source": []
  }
 ],
 "metadata": {
  "kernelspec": {
   "display_name": "Python 3",
   "language": "python",
   "name": "python3"
  },
  "language_info": {
   "codemirror_mode": {
    "name": "ipython",
    "version": 3
   },
   "file_extension": ".py",
   "mimetype": "text/x-python",
   "name": "python",
   "nbconvert_exporter": "python",
   "pygments_lexer": "ipython3",
   "version": "3.8.5"
  }
 },
 "nbformat": 4,
 "nbformat_minor": 5
}
